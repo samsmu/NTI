{
 "cells": [
  {
   "cell_type": "code",
   "execution_count": 2,
   "metadata": {},
   "outputs": [],
   "source": [
    "import numpy as np\n",
    "import pandas as pd\n",
    "\n",
    "from glob import glob\n",
    "from skimage import measure\n",
    "\n",
    "from skimage.filters import threshold_otsu\n",
    "from skimage.segmentation import clear_border\n",
    "from skimage.measure import label, regionprops\n",
    "from skimage.morphology import closing, square\n",
    "from skimage.color import label2rgb\n",
    "\n",
    "\n",
    "import matplotlib.pyplot as plt\n",
    "import matplotlib.patches as mpatches\n",
    "%matplotlib inline\n",
    "\n",
    "from features import get_region_from_map, get_features_from_region"
   ]
  },
  {
   "cell_type": "code",
   "execution_count": 2,
   "metadata": {},
   "outputs": [],
   "source": [
    "data_path = \"/home/samsmu/Data/Lung/CT\"\n",
    "working_path = data_path + \"/DSB3_work\""
   ]
  },
  {
   "cell_type": "markdown",
   "metadata": {},
   "source": [
    "### 0. Helper functions"
   ]
  },
  {
   "cell_type": "code",
   "execution_count": 3,
   "metadata": {},
   "outputs": [],
   "source": [
    "def getRegionMetricRow(seg):\n",
    "    # fname, numpy array of dimension [#slices, 1, 512, 512] containing the images\n",
    "    nslices = seg.shape[0]\n",
    "    \n",
    "    #metrics\n",
    "    totalArea = 0.\n",
    "    avgArea = 0.\n",
    "    maxArea = 0.\n",
    "    avgEcc = 0.\n",
    "    avgEquivlentDiameter = 0.\n",
    "    stdEquivlentDiameter = 0.\n",
    "    weightedX = 0.\n",
    "    weightedY = 0.\n",
    "    numNodes = 0.\n",
    "    numNodesperSlice = 0.\n",
    "    # crude hueristic to filter some bad segmentaitons\n",
    "    # do not allow any nodes to be larger than 10% of the pixels to eliminate background regions\n",
    "    maxAllowedArea = 0.10 * 512 * 512 \n",
    "    \n",
    "    areas = []\n",
    "    eqDiameters = []\n",
    "    for slicen in range(nslices):\n",
    "        regions = getRegionFromMap(seg[slicen])\n",
    "        for region in regions:\n",
    "            if region.area > maxAllowedArea:\n",
    "                continue\n",
    "            totalArea += region.area\n",
    "            areas.append(region.area)\n",
    "            avgEcc += region.eccentricity\n",
    "            avgEquivlentDiameter += region.equivalent_diameter\n",
    "            eqDiameters.append(region.equivalent_diameter)\n",
    "            weightedX += region.centroid[0]*region.area\n",
    "            weightedY += region.centroid[1]*region.area\n",
    "            numNodes += 1\n",
    "            \n",
    "    weightedX = weightedX / totalArea \n",
    "    weightedY = weightedY / totalArea\n",
    "    avgArea = totalArea / numNodes\n",
    "    avgEcc = avgEcc / numNodes\n",
    "    avgEquivlentDiameter = avgEquivlentDiameter / numNodes\n",
    "    stdEquivlentDiameter = np.std(eqDiameters)\n",
    "    \n",
    "    maxArea = max(areas)\n",
    "    \n",
    "    numNodesperSlice = numNodes*1. / nslices\n",
    "    \n",
    "    return np.array([avgArea, maxArea, avgEcc, avgEquivlentDiameter, stdEquivlentDiameter, weightedX, weightedY, numNodes, numNodesperSlice])\n"
   ]
  },
  {
   "cell_type": "markdown",
   "metadata": {},
   "source": [
    "### 1. Form Dataset full series"
   ]
  },
  {
   "cell_type": "code",
   "execution_count": null,
   "metadata": {},
   "outputs": [],
   "source": [
    "#%%time\n",
    "file_list = glob(working_path + \"/nodules*\")\n",
    "labels_file = data_path + '/DSB3/stage1_labels.csv'\n",
    "df_labels = pd.read_csv(labels_file)\n",
    "numfeatures = 9\n",
    "feature_array = np.zeros((len(file_list),numfeatures))\n",
    "labels = np.zeros((len(file_list)))\n",
    "for i, fname in enumerate(file_list):\n",
    "    series_id = fname.split('_')[-1].split('.')[0]\n",
    "    print(series_id)\n",
    "    series = np.load(fname) \n",
    "    feature_array[i] = getRegionMetricRow(series)\n",
    "    labels[i] = df_labels[df_labels['id'] == series_id].iloc[0]['cancer']\n",
    "np.save(\"data_series_X.npy\", feature_array)\n",
    "np.save(\"data_series_Y.npy\", labels)\n",
    "\n"
   ]
  },
  {
   "cell_type": "markdown",
   "metadata": {},
   "source": [
    "### 2. Form Dataset nodules"
   ]
  },
  {
   "cell_type": "code",
   "execution_count": null,
   "metadata": {},
   "outputs": [],
   "source": [
    "#1 hour\n",
    "%%time\n",
    "file_list = glob(working_path + \"/nodules*\")\n",
    "labels_file = data_path + '/DSB3/stage1_labels.csv'\n",
    "df_labels = pd.read_csv(labels_file)\n",
    "maxAllowedArea = 0.10 * 512 * 512 \n",
    "\n",
    "feature_array = []\n",
    "labels = [] \n",
    "\n",
    "for i, fname in enumerate(file_list):\n",
    "    series_id = fname.split('_')[-1].split('.')[0]\n",
    "    print(series_id)\n",
    "    series = np.load(fname) \n",
    "    series_label = df_labels[df_labels['id'] == series_id].iloc[0]['cancer']    \n",
    "    for seg in series:\n",
    "        regions = getRegionFromMap(seg)\n",
    "        for region in regions:\n",
    "            if region.area > maxAllowedArea:\n",
    "                continue\n",
    "            \n",
    "            nodule_features = get_features_from_region(region)\n",
    "            feature_array.append(nodule_features)\n",
    "            labels.append(series_label)\n",
    "\n",
    "np.save(\"data_nodules_X.npy\", np.array(feature_array))\n",
    "np.save(\"data_nodules_Y.npy\", np.array(labels))"
   ]
  },
  {
   "cell_type": "markdown",
   "metadata": {},
   "source": [
    "### End"
   ]
  },
  {
   "cell_type": "code",
   "execution_count": 58,
   "metadata": {},
   "outputs": [
    {
     "data": {
      "text/plain": [
       "array([<function label at 0x7f28901101f0>,\n",
       "       <function label at 0x7f28901101f0>,\n",
       "       <function label at 0x7f28901101f0>, ...,\n",
       "       <function label at 0x7f28901101f0>,\n",
       "       <function label at 0x7f28901101f0>,\n",
       "       <function label at 0x7f28901101f0>], dtype=object)"
      ]
     },
     "execution_count": 58,
     "metadata": {},
     "output_type": "execute_result"
    }
   ],
   "source": [
    " np.array(sereslabels)"
   ]
  },
  {
   "cell_type": "code",
   "execution_count": null,
   "metadata": {},
   "outputs": [],
   "source": []
  }
 ],
 "metadata": {
  "kernelspec": {
   "display_name": "tf-2",
   "language": "python",
   "name": "tf-2"
  },
  "language_info": {
   "codemirror_mode": {
    "name": "ipython",
    "version": 3
   },
   "file_extension": ".py",
   "mimetype": "text/x-python",
   "name": "python",
   "nbconvert_exporter": "python",
   "pygments_lexer": "ipython3",
   "version": "3.9.5"
  }
 },
 "nbformat": 4,
 "nbformat_minor": 4
}
