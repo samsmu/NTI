{
 "cells": [
  {
   "cell_type": "code",
   "execution_count": 82,
   "metadata": {},
   "outputs": [],
   "source": [
    "import numpy as np\n",
    "import pandas as pd\n",
    "\n",
    "from glob import glob\n",
    "\n",
    "from sklearn.ensemble import RandomForestClassifier as RF\n",
    "from catboost import CatBoostClassifier as cat\n",
    "from sklearn.model_selection import StratifiedKFold\n",
    "from sklearn.metrics import classification_report, matthews_corrcoef as MCC\n",
    "\n",
    "import matplotlib.pyplot as plt\n",
    "%matplotlib inline"
   ]
  },
  {
   "cell_type": "code",
   "execution_count": 11,
   "metadata": {},
   "outputs": [],
   "source": [
    "data_path = \"/home/samsmu/Data/Lung/CT\""
   ]
  },
  {
   "cell_type": "markdown",
   "metadata": {},
   "source": [
    "### 0. Loss functions"
   ]
  },
  {
   "cell_type": "code",
   "execution_count": 12,
   "metadata": {},
   "outputs": [],
   "source": [
    "def logloss(actual, predicted, eps=1e-14):\n",
    "\n",
    "    \"\"\"\n",
    "    :param actual:      The binary labels. Either 0 or 1.  \n",
    "    :param predicted:   The predicted probabilities as fl oats between 0-1\n",
    "    :param eps:         Log(0) is equal to infinity, so we need to offset our predicted values slightly by eps from 0 or 1\n",
    "    :return:            The logarithmic loss between between the predicted probability assigned to the possible outcomes for item i, and the actual outcome.\n",
    "    \"\"\"\n",
    "\n",
    "    predicted = np.clip(predicted, eps, 1-eps)\n",
    "    loss = -1 * np.mean(actual * np.log(predicted) + (1 - actual) * np.log(1-predicted))\n",
    "\n",
    "    return loss"
   ]
  },
  {
   "cell_type": "code",
   "execution_count": null,
   "metadata": {},
   "outputs": [],
   "source": []
  },
  {
   "cell_type": "markdown",
   "metadata": {},
   "source": [
    "### 1. Classify full series"
   ]
  },
  {
   "cell_type": "code",
   "execution_count": 20,
   "metadata": {},
   "outputs": [
    {
     "name": "stdout",
     "output_type": "stream",
     "text": [
      "              precision    recall  f1-score   support\n",
      "\n",
      "   No Cancer       0.74      0.94      0.83      1176\n",
      "      Cancer       0.22      0.04      0.07       418\n",
      "\n",
      "    accuracy                           0.71      1594\n",
      "   macro avg       0.48      0.49      0.45      1594\n",
      "weighted avg       0.60      0.71      0.63      1594\n",
      "\n",
      "logloss 9.403940357104274\n",
      "Predicting all positive\n",
      "              precision    recall  f1-score   support\n",
      "\n",
      "   No Cancer       0.00      0.00      0.00      1176\n",
      "      Cancer       0.26      1.00      0.42       418\n",
      "\n",
      "    accuracy                           0.26      1594\n",
      "   macro avg       0.13      0.50      0.21      1594\n",
      "weighted avg       0.07      0.26      0.11      1594\n",
      "\n",
      "logloss 23.78337597091084\n",
      "Predicting all negative\n",
      "              precision    recall  f1-score   support\n",
      "\n",
      "   No Cancer       0.74      1.00      0.85      1176\n",
      "      Cancer       0.00      0.00      0.00       418\n",
      "\n",
      "    accuracy                           0.74      1594\n",
      "   macro avg       0.37      0.50      0.42      1594\n",
      "weighted avg       0.54      0.74      0.63      1594\n",
      "\n",
      "logloss 8.453405247303117\n"
     ]
    },
    {
     "name": "stderr",
     "output_type": "stream",
     "text": [
      "/home/samsmu/anaconda3/envs/tf-2/lib/python3.9/site-packages/sklearn/metrics/_classification.py:1248: UndefinedMetricWarning: Precision and F-score are ill-defined and being set to 0.0 in labels with no predicted samples. Use `zero_division` parameter to control this behavior.\n",
      "  _warn_prf(average, modifier, msg_start, len(result))\n",
      "/home/samsmu/anaconda3/envs/tf-2/lib/python3.9/site-packages/sklearn/metrics/_classification.py:1248: UndefinedMetricWarning: Precision and F-score are ill-defined and being set to 0.0 in labels with no predicted samples. Use `zero_division` parameter to control this behavior.\n",
      "  _warn_prf(average, modifier, msg_start, len(result))\n",
      "/home/samsmu/anaconda3/envs/tf-2/lib/python3.9/site-packages/sklearn/metrics/_classification.py:1248: UndefinedMetricWarning: Precision and F-score are ill-defined and being set to 0.0 in labels with no predicted samples. Use `zero_division` parameter to control this behavior.\n",
      "  _warn_prf(average, modifier, msg_start, len(result))\n",
      "/home/samsmu/anaconda3/envs/tf-2/lib/python3.9/site-packages/sklearn/metrics/_classification.py:1248: UndefinedMetricWarning: Precision and F-score are ill-defined and being set to 0.0 in labels with no predicted samples. Use `zero_division` parameter to control this behavior.\n",
      "  _warn_prf(average, modifier, msg_start, len(result))\n",
      "/home/samsmu/anaconda3/envs/tf-2/lib/python3.9/site-packages/sklearn/metrics/_classification.py:1248: UndefinedMetricWarning: Precision and F-score are ill-defined and being set to 0.0 in labels with no predicted samples. Use `zero_division` parameter to control this behavior.\n",
      "  _warn_prf(average, modifier, msg_start, len(result))\n",
      "/home/samsmu/anaconda3/envs/tf-2/lib/python3.9/site-packages/sklearn/metrics/_classification.py:1248: UndefinedMetricWarning: Precision and F-score are ill-defined and being set to 0.0 in labels with no predicted samples. Use `zero_division` parameter to control this behavior.\n",
      "  _warn_prf(average, modifier, msg_start, len(result))\n"
     ]
    }
   ],
   "source": [
    "X = np.load(\"data_series_X.npy\")\n",
    "Y = np.load(\"data_series_Y.npy\")\n",
    "\n",
    "kf = StratifiedKFold(n_splits=5)\n",
    "y_pred = Y * 0\n",
    "for train, test in kf.split(X, Y):\n",
    "    X_train, X_test, y_train, y_test = X[train,:], X[test,:], Y[train], Y[test]\n",
    "    clf = RF(n_estimators=100, n_jobs=3)\n",
    "    clf.fit(X_train, y_train)\n",
    "    y_pred[test] = clf.predict(X_test)\n",
    "    \n",
    "print(classification_report(Y, y_pred, target_names=[\"No Cancer\", \"Cancer\"]))\n",
    "print(\"logloss\",logloss(Y, y_pred))\n",
    "\n",
    "# All Cancer\n",
    "print(\"Predicting all positive\")\n",
    "y_pred = np.ones(Y.shape)\n",
    "print(classification_report(Y, y_pred, target_names=[\"No Cancer\", \"Cancer\"]))\n",
    "print(\"logloss\",logloss(Y, y_pred))\n",
    "\n",
    "# No Cancer\n",
    "print(\"Predicting all negative\")\n",
    "y_pred = Y*0\n",
    "print(classification_report(Y, y_pred, target_names=[\"No Cancer\", \"Cancer\"]))\n",
    "print(\"logloss\",logloss(Y, y_pred))"
   ]
  },
  {
   "cell_type": "code",
   "execution_count": 45,
   "metadata": {},
   "outputs": [
    {
     "name": "stdout",
     "output_type": "stream",
     "text": [
      "catboost\n",
      "              precision    recall  f1-score   support\n",
      "\n",
      "   No Cancer       0.74      1.00      0.85      1176\n",
      "      Cancer       0.00      0.00      0.00       418\n",
      "\n",
      "    accuracy                           0.74      1594\n",
      "   macro avg       0.37      0.50      0.42      1594\n",
      "weighted avg       0.54      0.74      0.63      1594\n",
      "\n",
      "logloss 8.473629206462054\n"
     ]
    }
   ],
   "source": [
    "X = np.load(\"data_series_X.npy\")\n",
    "Y = np.load(\"data_series_Y.npy\")\n",
    "\n",
    "# try catboost\n",
    "print (\"catboost\")\n",
    "kf = KFold(n_splits=3)\n",
    "Y = Y.astype(int)\n",
    "y_pred = Y * 0\n",
    "for train, test in kf.split(X):\n",
    "    X_train, X_test, y_train, y_test = X[train,:], X[test,:], Y[train], Y[test]\n",
    "    clf = cat(num_trees = 2, verbose = False)\n",
    "    clf.fit(X_train, y_train)\n",
    "    y_pred[test] = clf.predict(X_test)\n",
    "print (classification_report(Y, y_pred, target_names=[\"No Cancer\", \"Cancer\"]))\n",
    "print(\"logloss\",logloss(Y, y_pred))\n"
   ]
  },
  {
   "cell_type": "markdown",
   "metadata": {},
   "source": [
    "#### 1.1 Final Classification"
   ]
  },
  {
   "cell_type": "code",
   "execution_count": 50,
   "metadata": {},
   "outputs": [
    {
     "name": "stdout",
     "output_type": "stream",
     "text": [
      "              precision    recall  f1-score   support\n",
      "\n",
      "   No Cancer       0.94      1.00      0.97      1176\n",
      "      Cancer       1.00      0.83      0.91       418\n",
      "\n",
      "    accuracy                           0.96      1594\n",
      "   macro avg       0.97      0.92      0.94      1594\n",
      "weighted avg       0.96      0.96      0.95      1594\n",
      "\n",
      "logloss 1.4358654845897718\n",
      "Random Forest: 0.8848039049091856\n"
     ]
    }
   ],
   "source": [
    "clf = RF(n_estimators=100, max_depth =14,  n_jobs=3)\n",
    "clf.fit(X, Y)\n",
    "\n",
    "y_pred = clf.predict(X)\n",
    "\n",
    "print(classification_report(Y, y_pred, target_names=[\"No Cancer\", \"Cancer\"]))\n",
    "print(\"logloss\",logloss(Y, y_pred))\n",
    "print(\"Random Forest:\", MCC(Y, y_pred))"
   ]
  },
  {
   "cell_type": "code",
   "execution_count": 55,
   "metadata": {},
   "outputs": [
    {
     "name": "stdout",
     "output_type": "stream",
     "text": [
      "              precision    recall  f1-score   support\n",
      "\n",
      "   No Cancer       0.94      1.00      0.97      1176\n",
      "      Cancer       1.00      0.83      0.91       418\n",
      "\n",
      "    accuracy                           0.95      1594\n",
      "   macro avg       0.97      0.91      0.94      1594\n",
      "weighted avg       0.96      0.95      0.95      1594\n",
      "\n",
      "logloss 1.4560889421192051\n",
      "Catboost: 0.8831740029405325\n"
     ]
    }
   ],
   "source": [
    "clf = cat(max_depth =9, verbose = False)\n",
    "clf.fit(X, Y)\n",
    "\n",
    "y_pred = clf.predict(X)\n",
    "\n",
    "print(classification_report(Y, y_pred, target_names=[\"No Cancer\", \"Cancer\"]))\n",
    "print(\"logloss\",logloss(Y, y_pred))\n",
    "print(\"Catboost:\", MCC(Y, y_pred))"
   ]
  },
  {
   "cell_type": "markdown",
   "metadata": {},
   "source": [
    "### 2. Classify nodules"
   ]
  },
  {
   "cell_type": "code",
   "execution_count": 59,
   "metadata": {},
   "outputs": [],
   "source": [
    "X = np.load(\"data_nodules_X.npy\")\n",
    "Y = np.load(\"data_nodules_Y.npy\")"
   ]
  },
  {
   "cell_type": "code",
   "execution_count": null,
   "metadata": {},
   "outputs": [],
   "source": [
    "kf = KFold(n_splits=3)\n",
    "y_pred = Y * 0\n",
    "for train, test in kf.split(X):\n",
    "    X_train, X_test, y_train, y_test = X[train,:], X[test,:], Y[train], Y[test]\n",
    "    clf = RF(n_estimators=100, n_jobs=3)\n",
    "    clf.fit(X_train, y_train)\n",
    "    y_pred[test] = clf.predict(X_test)\n",
    "print(classification_report(Y, y_pred, target_names=[\"No Cancer\", \"Cancer\"]))\n",
    "print(\"logloss\",logloss(Y, y_pred))\n",
    "\n",
    "# All Cancer\n",
    "print(\"Predicting all positive\")\n",
    "y_pred = np.ones(Y.shape)\n",
    "print(classification_report(Y, y_pred, target_names=[\"No Cancer\", \"Cancer\"]))\n",
    "print(\"logloss\",logloss(Y, y_pred))\n",
    "\n",
    "# No Cancer\n",
    "print(\"Predicting all negative\")\n",
    "y_pred = Y*0\n",
    "print(classification_report(Y, y_pred, target_names=[\"No Cancer\", \"Cancer\"]))\n",
    "print(\"logloss\",logloss(Y, y_pred))"
   ]
  },
  {
   "cell_type": "code",
   "execution_count": null,
   "metadata": {},
   "outputs": [],
   "source": []
  },
  {
   "cell_type": "code",
   "execution_count": 56,
   "metadata": {},
   "outputs": [],
   "source": [
    "#### 2.1 Final classification"
   ]
  },
  {
   "cell_type": "code",
   "execution_count": 100,
   "metadata": {},
   "outputs": [
    {
     "name": "stdout",
     "output_type": "stream",
     "text": [
      "              precision    recall  f1-score   support\n",
      "\n",
      "   No Cancer       0.78      0.99      0.88   5548422\n",
      "      Cancer       0.81      0.09      0.17   1672997\n",
      "\n",
      "    accuracy                           0.78   7221419\n",
      "   macro avg       0.80      0.54      0.52   7221419\n",
      "weighted avg       0.79      0.78      0.71   7221419\n",
      "\n",
      "logloss 6.932271229014301\n",
      "Random Forest: 0.22758831532331514\n",
      "CPU times: user 1h 7min 38s, sys: 25.4 s, total: 1h 8min 3s\n",
      "Wall time: 8min 52s\n"
     ]
    }
   ],
   "source": [
    "%%time\n",
    "clf = RF(n_estimators=100,  n_jobs=-1)\n",
    "clf.fit(X, Y)\n",
    "\n",
    "y_pred = clf.predict(X)\n",
    "\n",
    "print(classification_report(Y, y_pred, target_names=[\"No Cancer\", \"Cancer\"]))\n",
    "print(\"logloss\",logloss(Y, y_pred))\n",
    "print(\"Random Forest:\", MCC(Y, y_pred))"
   ]
  },
  {
   "cell_type": "code",
   "execution_count": 101,
   "metadata": {},
   "outputs": [],
   "source": [
    "y_prob = clf.predict_proba(X)"
   ]
  },
  {
   "cell_type": "code",
   "execution_count": null,
   "metadata": {},
   "outputs": [],
   "source": []
  },
  {
   "cell_type": "code",
   "execution_count": 122,
   "metadata": {},
   "outputs": [
    {
     "name": "stdout",
     "output_type": "stream",
     "text": [
      "Random Forest treshold: 0.2243099570646304\n"
     ]
    },
    {
     "data": {
      "text/plain": [
       "0.05070707017554306"
      ]
     },
     "execution_count": 122,
     "metadata": {},
     "output_type": "execute_result"
    }
   ],
   "source": [
    "y_tresh = y_prob[:, 1] > 0.4\n",
    "print(\"Random Forest treshold:\", MCC(Y, y_tresh))\n",
    "y_tresh.mean()"
   ]
  },
  {
   "cell_type": "code",
   "execution_count": 68,
   "metadata": {},
   "outputs": [
    {
     "name": "stdout",
     "output_type": "stream",
     "text": [
      "0:\tlearn: 0.6654591\ttotal: 567ms\tremaining: 10.8s\n",
      "1:\tlearn: 0.6429514\ttotal: 1.18s\tremaining: 10.7s\n",
      "2:\tlearn: 0.6245880\ttotal: 1.78s\tremaining: 10.1s\n",
      "3:\tlearn: 0.6094736\ttotal: 2.42s\tremaining: 9.69s\n",
      "4:\tlearn: 0.5970176\ttotal: 3.04s\tremaining: 9.11s\n",
      "5:\tlearn: 0.5868222\ttotal: 3.63s\tremaining: 8.48s\n",
      "6:\tlearn: 0.5783541\ttotal: 4.27s\tremaining: 7.92s\n",
      "7:\tlearn: 0.5713585\ttotal: 4.86s\tremaining: 7.28s\n",
      "8:\tlearn: 0.5655641\ttotal: 5.49s\tremaining: 6.71s\n",
      "9:\tlearn: 0.5608139\ttotal: 6.13s\tremaining: 6.13s\n",
      "10:\tlearn: 0.5568654\ttotal: 6.73s\tremaining: 5.51s\n",
      "11:\tlearn: 0.5535914\ttotal: 7.38s\tremaining: 4.92s\n",
      "12:\tlearn: 0.5508881\ttotal: 8s\tremaining: 4.31s\n",
      "13:\tlearn: 0.5486744\ttotal: 8.6s\tremaining: 3.68s\n",
      "14:\tlearn: 0.5468474\ttotal: 9.2s\tremaining: 3.07s\n",
      "15:\tlearn: 0.5453401\ttotal: 9.8s\tremaining: 2.45s\n",
      "16:\tlearn: 0.5440816\ttotal: 10.4s\tremaining: 1.84s\n",
      "17:\tlearn: 0.5430595\ttotal: 11s\tremaining: 1.23s\n",
      "18:\tlearn: 0.5422194\ttotal: 11.7s\tremaining: 614ms\n",
      "19:\tlearn: 0.5415155\ttotal: 12.3s\tremaining: 0us\n"
     ]
    },
    {
     "name": "stderr",
     "output_type": "stream",
     "text": [
      "/home/samsmu/anaconda3/envs/tf-2/lib/python3.9/site-packages/sklearn/metrics/_classification.py:1248: UndefinedMetricWarning: Precision and F-score are ill-defined and being set to 0.0 in labels with no predicted samples. Use `zero_division` parameter to control this behavior.\n",
      "  _warn_prf(average, modifier, msg_start, len(result))\n",
      "/home/samsmu/anaconda3/envs/tf-2/lib/python3.9/site-packages/sklearn/metrics/_classification.py:1248: UndefinedMetricWarning: Precision and F-score are ill-defined and being set to 0.0 in labels with no predicted samples. Use `zero_division` parameter to control this behavior.\n",
      "  _warn_prf(average, modifier, msg_start, len(result))\n",
      "/home/samsmu/anaconda3/envs/tf-2/lib/python3.9/site-packages/sklearn/metrics/_classification.py:1248: UndefinedMetricWarning: Precision and F-score are ill-defined and being set to 0.0 in labels with no predicted samples. Use `zero_division` parameter to control this behavior.\n",
      "  _warn_prf(average, modifier, msg_start, len(result))\n"
     ]
    },
    {
     "name": "stdout",
     "output_type": "stream",
     "text": [
      "              precision    recall  f1-score   support\n",
      "\n",
      "   No Cancer       0.77      1.00      0.87   5548422\n",
      "      Cancer       0.00      0.00      0.00   1672997\n",
      "\n",
      "    accuracy                           0.77   7221419\n",
      "   macro avg       0.38      0.50      0.43   7221419\n",
      "weighted avg       0.59      0.77      0.67   7221419\n",
      "\n",
      "logloss 7.468206918824775\n",
      "Catboost: 0.0\n",
      "CPU times: user 2min 16s, sys: 790 ms, total: 2min 17s\n",
      "Wall time: 53.7 s\n"
     ]
    },
    {
     "name": "stderr",
     "output_type": "stream",
     "text": [
      "/home/samsmu/anaconda3/envs/tf-2/lib/python3.9/site-packages/sklearn/metrics/_classification.py:873: RuntimeWarning: invalid value encountered in double_scalars\n",
      "  mcc = cov_ytyp / np.sqrt(cov_ytyt * cov_ypyp)\n"
     ]
    }
   ],
   "source": [
    "%%time\n",
    "clf = cat(iterations = 20, learning_rate = 0.1, max_depth =9,  verbose = True)\n",
    "clf.fit(X, Y)\n",
    "\n",
    "y_pred = clf.predict(X)\n",
    "\n",
    "print(classification_report(Y, y_pred, target_names=[\"No Cancer\", \"Cancer\"]))\n",
    "print(\"logloss\",logloss(Y, y_pred))\n",
    "print(\"Catboost:\", MCC(Y, y_pred))"
   ]
  }
 ],
 "metadata": {
  "kernelspec": {
   "display_name": "tf-2",
   "language": "python",
   "name": "tf-2"
  },
  "language_info": {
   "codemirror_mode": {
    "name": "ipython",
    "version": 3
   },
   "file_extension": ".py",
   "mimetype": "text/x-python",
   "name": "python",
   "nbconvert_exporter": "python",
   "pygments_lexer": "ipython3",
   "version": "3.9.5"
  }
 },
 "nbformat": 4,
 "nbformat_minor": 4
}
