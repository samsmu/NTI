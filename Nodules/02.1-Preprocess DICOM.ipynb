{
 "cells": [
  {
   "cell_type": "code",
   "execution_count": 1,
   "metadata": {},
   "outputs": [
    {
     "name": "stderr",
     "output_type": "stream",
     "text": [
      "2021-08-25 13:55:14.439490: I tensorflow/stream_executor/platform/default/dso_loader.cc:49] Successfully opened dynamic library libcudart.so.10.1\n"
     ]
    }
   ],
   "source": [
    "import numpy as np\n",
    "import pandas as pd\n",
    "\n",
    "from glob import glob\n",
    "import pydicom as dicom\n",
    "from glob import glob\n",
    "\n",
    "import matplotlib.pyplot as plt\n",
    "%matplotlib inline\n",
    "\n",
    "from sklearn.cluster import KMeans\n",
    "from skimage import morphology\n",
    "from skimage import measure\n",
    "\n",
    "from tensorflow.keras.layers import Input\n",
    "from preprocess import create_lung_mask, apply_lung_mask"
   ]
  },
  {
   "cell_type": "code",
   "execution_count": null,
   "metadata": {},
   "outputs": [],
   "source": []
  },
  {
   "cell_type": "code",
   "execution_count": 27,
   "metadata": {},
   "outputs": [],
   "source": [
    "### Classify"
   ]
  },
  {
   "cell_type": "code",
   "execution_count": 2,
   "metadata": {},
   "outputs": [],
   "source": [
    "data_path = \"/home/samsmu/Data/Lung/CT\"\n",
    "dataset_path = data_path + \"/DSB3/stage1\"\n",
    "output_path = data_path + \"/DSB3_work\""
   ]
  },
  {
   "cell_type": "markdown",
   "metadata": {},
   "source": [
    "### 1.Take middle part of lung series.  "
   ]
  },
  {
   "cell_type": "code",
   "execution_count": null,
   "metadata": {},
   "outputs": [],
   "source": [
    "%%time\n",
    "cut_percent_bottom = 0.3\n",
    "cut_percent_top = 0.7\n",
    "\n",
    "dir_list = glob(dataset_path +\"/*\")\n",
    "print(\"Series overall: \" , len(dir_list))\n",
    "for d in dir_list:\n",
    "    file_list = glob(d + \"/*\")\n",
    "    print(len(file_list))\n",
    "\n",
    "    file_list = glob(d + \"/*\")\n",
    "\n",
    "    series_list = []\n",
    "    #series_list.append()\n",
    "    for fn in file_list:\n",
    "        dcm = dicom.read_file(fn)\n",
    "        series_list.append([int(dcm.InstanceNumber), dcm.pixel_array])\n",
    "    series_list.sort()    \n",
    "    series_imgs = [x[1] for x in series_list]\n",
    "    start_series = int(cut_percent_bottom * len(series_imgs))\n",
    "    end_series = int(cut_percent_top * len(series_imgs))\n",
    "    series_imgs = series_imgs[start_series:end_series]\n",
    "    \n",
    "    series_fn = \"middle_\" + d.split(\"/\")[-1] + \".npy\"\n",
    "    np.save(output_path + \"/\" + series_fn, series_imgs)\n"
   ]
  },
  {
   "cell_type": "markdown",
   "metadata": {},
   "source": [
    "### 2. Create lung mask"
   ]
  },
  {
   "cell_type": "code",
   "execution_count": null,
   "metadata": {},
   "outputs": [],
   "source": [
    "%%time\n",
    "file_list = glob(output_path + \"/middle*.npy\")\n",
    "for img_file in file_list:\n",
    "    # I ran into an error when using Kmean on np.float16, so I'm using np.float64 here\n",
    "    imgs_to_process = np.load(img_file).astype(np.float64) \n",
    "    print (\"on image\", img_file)\n",
    "    for i in range(len(imgs_to_process)):\n",
    "        img = imgs_to_process[i]\n",
    "        mask = create_lung_mask(img)\n",
    "        imgs_to_process[i] = mask\n",
    "    np.save(img_file.replace(\"middle\",\"lungmask\"), imgs_to_process)"
   ]
  },
  {
   "cell_type": "code",
   "execution_count": 17,
   "metadata": {},
   "outputs": [
    {
     "data": {
      "text/plain": [
       "<matplotlib.image.AxesImage at 0x7fb37c1d1610>"
      ]
     },
     "execution_count": 17,
     "metadata": {},
     "output_type": "execute_result"
    },
    {
     "data": {
      "image/png": "[encoded data removed]",
      "text/plain": [
       "<Figure size 432x288 with 1 Axes>"
      ]
     },
     "metadata": {
      "needs_background": "light"
     },
     "output_type": "display_data"
    }
   ],
   "source": [
    "plt.imshow(mask, cmap = \"gray\")"
   ]
  },
  {
   "cell_type": "code",
   "execution_count": null,
   "metadata": {},
   "outputs": [],
   "source": []
  },
  {
   "cell_type": "markdown",
   "metadata": {},
   "source": [
    "### 3. Apply Lung mask to img"
   ]
  },
  {
   "cell_type": "code",
   "execution_count": null,
   "metadata": {},
   "outputs": [],
   "source": [
    "%%time\n",
    "file_list=glob(output_path+\"/lungmask_*.npy\")\n",
    "\n",
    "for fname in file_list:\n",
    "    print (\"working on file \", fname)\n",
    "    masks = np.load(fname)\n",
    "    imgs_to_process = np.load(fname.replace(\"lungmask\",\"middle\"))\n",
    "    out_images = []      #final set of images\n",
    "    for i in range(len(imgs_to_process)):\n",
    "        img = imgs_to_process[i]\n",
    "        mask = masks[i]        \n",
    "        new_img, _ = apply_lung_mask(img, mask, None)\n",
    "        if new_img is None:\n",
    "            pass\n",
    "        else:\n",
    "            out_images.append(new_img)\n",
    "            \n",
    "    num_images = len(out_images)\n",
    "    #\n",
    "    #  Writing out images and masks as 1 channel arrays for input into network\n",
    "    #\n",
    "    final_images = np.ndarray([num_images, 512, 512, 1],dtype=np.float32)\n",
    "    for i in range(num_images):\n",
    "        final_images[i,...,0] = out_images[i]            \n",
    "        np.save(fname.replace(\"lungmask\", \"final\"), final_images)"
   ]
  },
  {
   "cell_type": "code",
   "execution_count": null,
   "metadata": {},
   "outputs": [],
   "source": []
  },
  {
   "cell_type": "markdown",
   "metadata": {},
   "source": [
    "#### 3.1 Test"
   ]
  },
  {
   "cell_type": "code",
   "execution_count": 8,
   "metadata": {},
   "outputs": [
    {
     "name": "stdout",
     "output_type": "stream",
     "text": [
      "Series shape: (60, 512, 512, 1)\n"
     ]
    },
    {
     "data": {
      "text/plain": [
       "<matplotlib.image.AxesImage at 0x7fe8f2ee3be0>"
      ]
     },
     "execution_count": 8,
     "metadata": {},
     "output_type": "execute_result"
    },
    {
     "data": {
      "image/png": "[encoded data removed]",
      "text/plain": [
       "<Figure size 432x288 with 1 Axes>"
      ]
     },
     "metadata": {
      "needs_background": "light"
     },
     "output_type": "display_data"
    }
   ],
   "source": [
    "file_list = glob(output_path+\"/final_*.npy\")\n",
    "out_images = np.load(file_list[0])\n",
    "print(\"Series shape:\", out_images.shape)\n",
    "plt.imshow(out_images[5], cmap = \"gray\")"
   ]
  },
  {
   "cell_type": "code",
   "execution_count": null,
   "metadata": {},
   "outputs": [],
   "source": []
  },
  {
   "cell_type": "markdown",
   "metadata": {},
   "source": [
    "### End"
   ]
  },
  {
   "cell_type": "code",
   "execution_count": 4,
   "metadata": {},
   "outputs": [
    {
     "data": {
      "text/plain": [
       "20"
      ]
     },
     "execution_count": 4,
     "metadata": {},
     "output_type": "execute_result"
    }
   ],
   "source": [
    "xf = glob(output_path+\"/final_*.npy\")\n",
    "len(xf)"
   ]
  },
  {
   "cell_type": "code",
   "execution_count": 5,
   "metadata": {},
   "outputs": [
    {
     "data": {
      "text/plain": [
       "1594"
      ]
     },
     "execution_count": 5,
     "metadata": {},
     "output_type": "execute_result"
    }
   ],
   "source": [
    "xm = glob(output_path+\"/middle_*.npy\")\n",
    "len(xm)"
   ]
  },
  {
   "cell_type": "code",
   "execution_count": 6,
   "metadata": {},
   "outputs": [
    {
     "data": {
      "text/plain": [
       "1594"
      ]
     },
     "execution_count": 6,
     "metadata": {},
     "output_type": "execute_result"
    }
   ],
   "source": [
    "xl = glob(output_path+\"/lungmask_*.npy\")\n",
    "len(xl)"
   ]
  },
  {
   "cell_type": "code",
   "execution_count": null,
   "metadata": {},
   "outputs": [],
   "source": []
  },
  {
   "cell_type": "code",
   "execution_count": null,
   "metadata": {},
   "outputs": [],
   "source": []
  },
  {
   "cell_type": "code",
   "execution_count": null,
   "metadata": {},
   "outputs": [],
   "source": []
  },
  {
   "cell_type": "code",
   "execution_count": null,
   "metadata": {},
   "outputs": [],
   "source": []
  },
  {
   "cell_type": "code",
   "execution_count": null,
   "metadata": {},
   "outputs": [],
   "source": []
  }
 ],
 "metadata": {
  "kernelspec": {
   "display_name": "tf-2",
   "language": "python",
   "name": "tf-2"
  },
  "language_info": {
   "codemirror_mode": {
    "name": "ipython",
    "version": 3
   },
   "file_extension": ".py",
   "mimetype": "text/x-python",
   "name": "python",
   "nbconvert_exporter": "python",
   "pygments_lexer": "ipython3",
   "version": "3.9.5"
  }
 },
 "nbformat": 4,
 "nbformat_minor": 4
}
