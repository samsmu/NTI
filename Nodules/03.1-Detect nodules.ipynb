{
 "cells": [
  {
   "cell_type": "code",
   "execution_count": 2,
   "metadata": {},
   "outputs": [
    {
     "name": "stderr",
     "output_type": "stream",
     "text": [
      "2021-08-26 07:08:35.522117: I tensorflow/stream_executor/platform/default/dso_loader.cc:49] Successfully opened dynamic library libcudart.so.10.1\n"
     ]
    }
   ],
   "source": [
    "import numpy as np\n",
    "\n",
    "from glob import glob\n",
    "\n",
    "from tensorflow.keras.layers import Input\n",
    "from unets import get_unet\n",
    "\n",
    "import matplotlib.pyplot as plt\n",
    "%matplotlib inline"
   ]
  },
  {
   "cell_type": "code",
   "execution_count": 3,
   "metadata": {},
   "outputs": [],
   "source": [
    "data_path = \"/home/samsmu/Data/Lung/CT\"\n",
    "working_path = data_path + \"/DSB3_work\""
   ]
  },
  {
   "cell_type": "code",
   "execution_count": null,
   "metadata": {},
   "outputs": [],
   "source": []
  },
  {
   "cell_type": "markdown",
   "metadata": {},
   "source": [
    "### 1. Predict nodules"
   ]
  },
  {
   "cell_type": "code",
   "execution_count": null,
   "metadata": {},
   "outputs": [],
   "source": [
    "im_height = 512\n",
    "im_width = 512\n",
    "input_img = Input((im_height, im_width, 1), name='img')\n",
    "model = get_unet(input_img, n_filters=16, dropout=0.05, batchnorm=True)\n",
    "# load the best model\n",
    "model.load_weights('model-nodules.h5')"
   ]
  },
  {
   "cell_type": "code",
   "execution_count": null,
   "metadata": {},
   "outputs": [],
   "source": [
    "file_list = glob(working_path + \"/final*\")\n",
    "for fname in file_list: \n",
    "    print(fname)\n",
    "    X_series = np.load(fname).astype(np.float32)\n",
    "    X_series = X_series/X_series.max()\n",
    "# Predict on train, val and test\n",
    "    preds_nodules = model.predict(X_series, verbose=1)\n",
    "    np.save(fname.replace(\"final\", \"nodules\"), preds_nodules[..., 0])"
   ]
  },
  {
   "cell_type": "code",
   "execution_count": null,
   "metadata": {},
   "outputs": [],
   "source": []
  },
  {
   "cell_type": "markdown",
   "metadata": {},
   "source": [
    "### End"
   ]
  },
  {
   "cell_type": "code",
   "execution_count": 11,
   "metadata": {},
   "outputs": [
    {
     "name": "stdout",
     "output_type": "stream",
     "text": [
      "1594\n"
     ]
    }
   ],
   "source": [
    "xf = glob(working_path+\"/final_*.npy\")\n",
    "xn = glob(working_path+\"/nodules_*.npy\")\n",
    "print(len(xn))\n",
    "assert len(xf) == len(xn)"
   ]
  },
  {
   "cell_type": "code",
   "execution_count": null,
   "metadata": {},
   "outputs": [],
   "source": []
  },
  {
   "cell_type": "code",
   "execution_count": null,
   "metadata": {},
   "outputs": [],
   "source": [
    "plt.imshow(X_series[7], cmap = \"gray\")"
   ]
  },
  {
   "cell_type": "code",
   "execution_count": 18,
   "metadata": {},
   "outputs": [
    {
     "data": {
      "text/plain": [
       "<matplotlib.image.AxesImage at 0x7f88bc6edf10>"
      ]
     },
     "execution_count": 18,
     "metadata": {},
     "output_type": "execute_result"
    },
    {
     "data": {
      "image/png": "[encoded data removed]",
      "text/plain": [
       "<Figure size 432x288 with 1 Axes>"
      ]
     },
     "metadata": {
      "needs_background": "light"
     },
     "output_type": "display_data"
    }
   ],
   "source": [
    "plt.imshow(preds_nodules[39])"
   ]
  },
  {
   "cell_type": "code",
   "execution_count": 27,
   "metadata": {},
   "outputs": [
    {
     "data": {
      "text/plain": [
       "<matplotlib.image.AxesImage at 0x7f88ac773d30>"
      ]
     },
     "execution_count": 27,
     "metadata": {},
     "output_type": "execute_result"
    },
    {
     "data": {
      "image/png": "[encoded data removed]",
      "text/plain": [
       "<Figure size 432x288 with 1 Axes>"
      ]
     },
     "metadata": {
      "needs_background": "light"
     },
     "output_type": "display_data"
    }
   ],
   "source": [
    "threshold = 0.1\n",
    "binary_nodules = (preds_nodules > threshold).astype(np.uint8)\n",
    "plt.imshow(binary_nodules[3])"
   ]
  },
  {
   "cell_type": "code",
   "execution_count": 8,
   "metadata": {},
   "outputs": [
    {
     "data": {
      "text/plain": [
       "['/home/samsmu/Data/Lung/CT/DSB3_work/nodules_08643d7b9ce18405fb63f63dda258e76.npy',\n",
       " '/home/samsmu/Data/Lung/CT/DSB3_work/nodules_abc4cfb4ac045b4f9a74e2dbb18f8193.npy',\n",
       " '/home/samsmu/Data/Lung/CT/DSB3_work/nodules_bc38f78d1194f57452f6bb5eed453137.npy',\n",
       " '/home/samsmu/Data/Lung/CT/DSB3_work/nodules_5f3b9b59f957fea0a5e8cc506e12652e.npy',\n",
       " '/home/samsmu/Data/Lung/CT/DSB3_work/nodules_f29d00ddf6d9846aa600c3f0edf5f952.npy',\n",
       " '/home/samsmu/Data/Lung/CT/DSB3_work/nodules_c98fb8f387c0979531e11de53607de92.npy',\n",
       " '/home/samsmu/Data/Lung/CT/DSB3_work/nodules_722429bc9cb25d6f4b7a820c14bf2ab1.npy',\n",
       " '/home/samsmu/Data/Lung/CT/DSB3_work/nodules_9f19c381184ba62416025849c464630e.npy',\n",
       " '/home/samsmu/Data/Lung/CT/DSB3_work/nodules_2703df8c469906a06a45c0d7ff501199.npy',\n",
       " '/home/samsmu/Data/Lung/CT/DSB3_work/nodules_b769e3486463214cf631bf7ab6655801.npy',\n",
       " '/home/samsmu/Data/Lung/CT/DSB3_work/nodules_7b547c5afa0c028b0e20e9a28eaeaa41.npy',\n",
       " '/home/samsmu/Data/Lung/CT/DSB3_work/nodules_627499714e279203bd1294290f8fc542.npy',\n",
       " '/home/samsmu/Data/Lung/CT/DSB3_work/nodules_c14816a1a9a6852c6b0d88fe5585c8bb.npy',\n",
       " '/home/samsmu/Data/Lung/CT/DSB3_work/nodules_00cba091fa4ad62cc3200a657aeb957e.npy',\n",
       " '/home/samsmu/Data/Lung/CT/DSB3_work/nodules_d287819450e57ae8c883ed31dc4dc3a3.npy',\n",
       " '/home/samsmu/Data/Lung/CT/DSB3_work/nodules_c979fbec565e769de7e66944ab5365a4.npy',\n",
       " '/home/samsmu/Data/Lung/CT/DSB3_work/nodules_744bb5ab2a706c8070a3f5cd72848ccc.npy',\n",
       " '/home/samsmu/Data/Lung/CT/DSB3_work/nodules_e10c2b829c39d4a500c09caf04d461a1.npy',\n",
       " '/home/samsmu/Data/Lung/CT/DSB3_work/nodules_72b080b50118e9ddb795890eb1f13684.npy',\n",
       " '/home/samsmu/Data/Lung/CT/DSB3_work/nodules_e1f3a01e73d706b7e9c30c0a17a4c0b5.npy']"
      ]
     },
     "execution_count": 8,
     "metadata": {},
     "output_type": "execute_result"
    }
   ],
   "source": [
    "glob(working_path+ \"/nodules*\")"
   ]
  }
 ],
 "metadata": {
  "kernelspec": {
   "display_name": "tf-2",
   "language": "python",
   "name": "tf-2"
  },
  "language_info": {
   "codemirror_mode": {
    "name": "ipython",
    "version": 3
   },
   "file_extension": ".py",
   "mimetype": "text/x-python",
   "name": "python",
   "nbconvert_exporter": "python",
   "pygments_lexer": "ipython3",
   "version": "3.9.5"
  }
 },
 "nbformat": 4,
 "nbformat_minor": 4
}
